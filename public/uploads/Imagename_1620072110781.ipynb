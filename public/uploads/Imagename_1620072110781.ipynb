{
 "cells": [
  {
   "cell_type": "markdown",
   "metadata": {},
   "source": [
    "Question2. WAP using Pandas to split the following dataframe into groups based on school code.\n",
    "\n",
    "     school class            name date_Of_Birth   age  height  weight  address\n",
    "     s002     V      Kanika Goel     17/05/2002   12    192      32  street2\n",
    "     s003    VI       Richa Jain     16/02/1999   13    186      33  street3\n",
    "     s001    VI       Ananya Jha     25/09/1998   13    167      30  street1\n",
    "     s002     V    Deepika Gupta     11/05/2002   14    151      31  street2\n",
    "     s004    VI    Karishma Khan     15/09/1997   12    159      32  street4\n",
    "\n"
   ]
  },
  {
   "cell_type": "code",
   "execution_count": 14,
   "metadata": {},
   "outputs": [
    {
     "name": "stdout",
     "output_type": "stream",
     "text": [
      "Original DataFrame:\n",
      "-------------------------------------------------------------------------------\n",
      "   school_code class           name        DOB   age  height  weight  address\n",
      "S1        s002     V    Kanika Goel  17/05/2002   12     192      32  street2\n",
      "S2        s003    VI     Richa Jain  16/05/1999   13     186      33  street3\n",
      "S3        s001    VI     Ananya Jha  25/09/1998   13     167      30  street1\n",
      "S4        s002     V  Deepika Gupta  11/05/2002   14     151      31  street2\n",
      "S5        s004    VI  Karishma Khan  15/09/1997   12     159      32  street4\n",
      "\n",
      "After splitting the School data school_code wise:\n",
      "\n",
      "Group:s001\n",
      "---------------------------------------------------------------------------\n",
      "   School_code Class        Name        DOB   Age  Height  Weight  Address\n",
      "S3        s001    VI  Ananya Jha  25/09/1998   13     167      30  street1\n",
      "---------------------------------------------------------------------------\n",
      "\n",
      "Group:s002\n",
      "---------------------------------------------------------------------------\n",
      "   School_code Class           Name        DOB   Age  Height  Weight  Address\n",
      "S1        s002     V    Kanika Goel  17/05/2002   12     192      32  street2\n",
      "S4        s002     V  Deepika Gupta  11/05/2002   14     151      31  street2\n",
      "---------------------------------------------------------------------------\n",
      "\n",
      "Group:s003\n",
      "---------------------------------------------------------------------------\n",
      "   School_code Class        Name        DOB   Age  Height  Weight  Address\n",
      "S2        s003    VI  Richa Jain  16/05/1999   13     186      33  street3\n",
      "---------------------------------------------------------------------------\n",
      "\n",
      "Group:s004\n",
      "---------------------------------------------------------------------------\n",
      "   School_code Class           Name        DOB   Age  Height  Weight  Address\n",
      "S5        s004    VI  Karishma Khan  15/09/1997   12     159      32  street4\n",
      "---------------------------------------------------------------------------\n"
     ]
    }
   ],
   "source": [
    "import pandas as pd\n",
    "school = pd.DataFrame({\n",
    "    'School_code': ['s002','s003','s001','s002','s004'],\n",
    "    'Class': ['V', 'VI', 'VI', 'V', 'VI'],\n",
    "    'Name': ['Kanika Goel','Richa Jain','Ananya Jha', 'Deepika Gupta', 'Karishma Khan'],\n",
    "    'DOB ': ['17/05/2002','16/05/1999','25/09/1998','11/05/2002','15/09/1997'],\n",
    "    'Age': [12, 13, 13, 14, 12],\n",
    "    'Height': [ 192, 186, 167, 151, 159],\n",
    "    'Weight': [32, 33, 30, 31, 32],\n",
    "    'Address': ['street2', 'street3', 'street1', 'street2', 'street4']},index=['S1', 'S2', 'S3', 'S4', 'S5'])\n",
    "\n",
    "print(\"Original DataFrame:\")\n",
    "print(\"-------------------------------------------------------------------------------\")\n",
    "print(student_data)\n",
    "print('\\nAfter splitting the School data school_code wise:')\n",
    "result = school.groupby(['School_code'])\n",
    "for name,group in result:\n",
    "    print(\"\\nGroup:\"+name)\n",
    "    print(\"---------------------------------------------------------------------------\")\n",
    "    print(group)\n",
    "    print(\"---------------------------------------------------------------------------\")"
   ]
  },
  {
   "cell_type": "code",
   "execution_count": null,
   "metadata": {},
   "outputs": [],
   "source": []
  },
  {
   "cell_type": "code",
   "execution_count": null,
   "metadata": {},
   "outputs": [],
   "source": []
  }
 ],
 "metadata": {
  "kernelspec": {
   "display_name": "Python 3",
   "language": "python",
   "name": "python3"
  },
  "language_info": {
   "codemirror_mode": {
    "name": "ipython",
    "version": 3
   },
   "file_extension": ".py",
   "mimetype": "text/x-python",
   "name": "python",
   "nbconvert_exporter": "python",
   "pygments_lexer": "ipython3",
   "version": "3.7.6"
  }
 },
 "nbformat": 4,
 "nbformat_minor": 4
}
